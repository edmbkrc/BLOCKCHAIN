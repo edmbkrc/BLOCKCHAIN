{
 "cells": [
  {
   "cell_type": "markdown",
   "id": "38e59eed-ef28-4ee3-8233-18a0e13e20f1",
   "metadata": {},
   "source": [
    "# BlockChain"
   ]
  },
  {
   "cell_type": "code",
   "execution_count": 2,
   "id": "c529e525-9636-4e44-a1ae-9142c16c406e",
   "metadata": {},
   "outputs": [],
   "source": [
    "import hashlib\n",
    "import datetime"
   ]
  },
  {
   "cell_type": "code",
   "execution_count": 8,
   "id": "f07775bc-a77d-469b-b161-94a525bcc1df",
   "metadata": {},
   "outputs": [],
   "source": [
    "class Block:\n",
    "    def __init__(self, data, prev_hash):\n",
    "        self.timestamp = datetime.datetime.now()\n",
    "        self.data = data\n",
    "        self.prev_hash = prev_hash\n",
    "        self.hash = self.calculate_hash()\n",
    "\n",
    "    def calculate_hash(self):\n",
    "        hash_string = str(self.timestamp)+str(self.data)+str(self.prev_hash)\n",
    "        return hashlib.sha256(hash_string.encode()).hexdigest()"
   ]
  },
  {
   "cell_type": "code",
   "execution_count": 9,
   "id": "a220be57-a71b-4a18-83d6-f7bb48a9940b",
   "metadata": {},
   "outputs": [],
   "source": [
    "class Blockchain:\n",
    "    def __init__(self):\n",
    "        self.chain=[self.create_genesis_block()]\n",
    "    def create_genesis_block(self):\n",
    "        return Block('Genesis Block',0)\n",
    "    def add_block(self,data):\n",
    "        prev_block=self.chain[-1]\n",
    "        new_block=Block(data,prev_block.hash)\n",
    "        self.chain.append(new_block)"
   ]
  },
  {
   "cell_type": "code",
   "execution_count": 10,
   "id": "402278d7-cd9b-4257-923d-4b4feb48341d",
   "metadata": {},
   "outputs": [],
   "source": [
    "blockchain = Blockchain()"
   ]
  },
  {
   "cell_type": "code",
   "execution_count": 11,
   "id": "42477e27-11bc-4710-8260-d8d3ab45ef93",
   "metadata": {},
   "outputs": [],
   "source": [
    "blockchain.add_block(\"First block\")\n",
    "blockchain.add_block(\"Second block\")\n",
    "blockchain.add_block(\"Third block\")"
   ]
  },
  {
   "cell_type": "code",
   "execution_count": 12,
   "id": "3553fa00-9c59-4fd4-8635-37d067b8e9ea",
   "metadata": {},
   "outputs": [
    {
     "name": "stdout",
     "output_type": "stream",
     "text": [
      "Blockchain\n",
      "date:  2024-04-06 09:12:30.462558\n",
      "Data:  Genesis Block\n",
      "Previous Hash:  0\n",
      "Current Hash:  c091b19a30f04af29f747066d5eee1ca5a5bc7aeef6c2c1aab4d7dcf3b57d388\n",
      "\n",
      "date:  2024-04-06 09:13:19.348130\n",
      "Data:  First block\n",
      "Previous Hash:  c091b19a30f04af29f747066d5eee1ca5a5bc7aeef6c2c1aab4d7dcf3b57d388\n",
      "Current Hash:  251fa0e8387e8812ffbe856b8c70c2a707004a61c62ec7ffd99e47f0205ed4f2\n",
      "\n",
      "date:  2024-04-06 09:13:19.348130\n",
      "Data:  Second block\n",
      "Previous Hash:  251fa0e8387e8812ffbe856b8c70c2a707004a61c62ec7ffd99e47f0205ed4f2\n",
      "Current Hash:  59a5a6f8135516610125f422014d1d8e9bc1d1dad6910c69b918f74ed28a8982\n",
      "\n",
      "date:  2024-04-06 09:13:19.348130\n",
      "Data:  Third block\n",
      "Previous Hash:  59a5a6f8135516610125f422014d1d8e9bc1d1dad6910c69b918f74ed28a8982\n",
      "Current Hash:  fbf7240f8aa60d14e663d0519d77eda809d10a3ead9525cfa28609f33bdd5b5a\n",
      "\n"
     ]
    }
   ],
   "source": [
    "print(\"Blockchain\")\n",
    "for block in blockchain.chain:\n",
    "    print(\"date: \",block.timestamp)\n",
    "    print(\"Data: \",block.data)\n",
    "    print(\"Previous Hash: \",block.prev_hash)\n",
    "    print(\"Current Hash: \",block.hash)\n",
    "    print()"
   ]
  },
  {
   "cell_type": "code",
   "execution_count": null,
   "id": "4aadc685-d4e2-4e48-a9ff-ba9a7a0cbe59",
   "metadata": {},
   "outputs": [],
   "source": []
  }
 ],
 "metadata": {
  "kernelspec": {
   "display_name": "Python 3 (ipykernel)",
   "language": "python",
   "name": "python3"
  },
  "language_info": {
   "codemirror_mode": {
    "name": "ipython",
    "version": 3
   },
   "file_extension": ".py",
   "mimetype": "text/x-python",
   "name": "python",
   "nbconvert_exporter": "python",
   "pygments_lexer": "ipython3",
   "version": "3.11.5"
  },
  "widgets": {
   "application/vnd.jupyter.widget-state+json": {
    "state": {},
    "version_major": 2,
    "version_minor": 0
   }
  }
 },
 "nbformat": 4,
 "nbformat_minor": 5
}
